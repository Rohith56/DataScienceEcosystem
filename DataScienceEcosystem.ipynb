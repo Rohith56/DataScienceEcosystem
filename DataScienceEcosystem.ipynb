{
 "cells": [
  {
   "cell_type": "markdown",
   "id": "1781254c-ee69-40c7-8614-f6fa6c27693d",
   "metadata": {},
   "source": [
    "# Data Science Tools and Ecosystem"
   ]
  },
  {
   "cell_type": "markdown",
   "id": "15da64ae-f2e1-4dfd-967b-124866783ae4",
   "metadata": {},
   "source": [
    "In this notebook, Data Science Tools and Ecosystem are summarized."
   ]
  },
  {
   "cell_type": "markdown",
   "id": "3dadab66-4c28-4220-8ed2-d3c982e91da8",
   "metadata": {},
   "source": [
    "Some of the popular languages that Data Scientists use are:\n",
    "1. Python\n",
    "2. R\n",
    "3. SQL\n",
    "4. Julia"
   ]
  },
  {
   "cell_type": "markdown",
   "id": "495c7c1f-071e-4c87-974b-5bf5c66561dc",
   "metadata": {},
   "source": [
    "Some of the commonly used libraries used by Data Scientists include:\r\n",
    "1. Pandas\r\n",
    "2. NumPy\r\n",
    "3. Matplotlib\r\n",
    "4. Scikit-larn\r\n"
   ]
  },
  {
   "cell_type": "markdown",
   "id": "90156d0b-3407-4e80-bce6-7aac727ea080",
   "metadata": {},
   "source": [
    "| Data Science Tools         |\r\n",
    "|----------------------------|\r\n",
    "| Jupyter Notebook            |\r\n",
    "| RStudio                     |\r\n",
    "| Apache Zeppelin            |\r\n"
   ]
  },
  {
   "cell_type": "markdown",
   "id": "78db8302-de9f-4d66-af37-1b56b9270c2d",
   "metadata": {},
   "source": [
    "### Below are a few examples of evaluating arithmetic expressions in Python.\n"
   ]
  },
  {
   "cell_type": "code",
   "execution_count": 1,
   "id": "1fec07a5-f967-4245-bcfc-e87d0eb3e378",
   "metadata": {},
   "outputs": [
    {
     "data": {
      "text/plain": [
       "17"
      ]
     },
     "execution_count": 1,
     "metadata": {},
     "output_type": "execute_result"
    }
   ],
   "source": [
    "# This a simple arithmetic expression to multiply then add integers\n",
    "(3*4) + 5"
   ]
  },
  {
   "cell_type": "code",
   "execution_count": 2,
   "id": "9bc54284-ac96-4e66-a256-18a3d1f6cf28",
   "metadata": {},
   "outputs": [
    {
     "data": {
      "text/plain": [
       "3.3333333333333335"
      ]
     },
     "execution_count": 2,
     "metadata": {},
     "output_type": "execute_result"
    }
   ],
   "source": [
    "# This will convert 200 minutes to hours by dividing by 60\n",
    "200 / 60"
   ]
  },
  {
   "cell_type": "markdown",
   "id": "bd760ca2-1cd4-4c18-9ab7-1ec56df5327b",
   "metadata": {},
   "source": [
    "**Objectives:**\r\n",
    "- List popular languages for Data Science\r\n",
    "- Identify commonly used libraries in Data Science\r\n",
    "- Demonstrate basic arithmetic operations in Python\r\n",
    "- Create and share Jupyter Noteboks\r\n"
   ]
  },
  {
   "cell_type": "code",
   "execution_count": 4,
   "id": "2467b046-741b-4a5b-b51a-6b94c164c123",
   "metadata": {},
   "outputs": [
    {
     "data": {
      "text/plain": [
       "'Rohith R'"
      ]
     },
     "execution_count": 4,
     "metadata": {},
     "output_type": "execute_result"
    }
   ],
   "source": [
    "## Author\n",
    "\"Rohith R\""
   ]
  }
 ],
 "metadata": {
  "kernelspec": {
   "display_name": "Python 3 (ipykernel)",
   "language": "python",
   "name": "python3"
  },
  "language_info": {
   "codemirror_mode": {
    "name": "ipython",
    "version": 3
   },
   "file_extension": ".py",
   "mimetype": "text/x-python",
   "name": "python",
   "nbconvert_exporter": "python",
   "pygments_lexer": "ipython3",
   "version": "3.11.7"
  }
 },
 "nbformat": 4,
 "nbformat_minor": 5
}
